{
  "nbformat": 4,
  "nbformat_minor": 0,
  "metadata": {
    "colab": {
      "provenance": [],
      "authorship_tag": "ABX9TyOx2Ai/4h8xaR66vR4YY4AZ",
      "include_colab_link": true
    },
    "kernelspec": {
      "name": "python3",
      "display_name": "Python 3"
    },
    "language_info": {
      "name": "python"
    }
  },
  "cells": [
    {
      "cell_type": "markdown",
      "metadata": {
        "id": "view-in-github",
        "colab_type": "text"
      },
      "source": [
        "<a href=\"https://colab.research.google.com/github/Aman78695/Churn_Prediction_ANN/blob/main/Churn_prediction_ANN.ipynb\" target=\"_parent\"><img src=\"https://colab.research.google.com/assets/colab-badge.svg\" alt=\"Open In Colab\"/></a>"
      ]
    },
    {
      "cell_type": "code",
      "execution_count": null,
      "metadata": {
        "id": "wvnScQkCWk9w"
      },
      "outputs": [],
      "source": [
        "import pandas as pd\n",
        "import numpy as np\n",
        "\n",
        "# Loading the dataset\n",
        "df = pd.read_csv('/content/Churn_Modelling.csv')\n",
        "\n",
        "# Displaying the first few rows of the dataset\n",
        "df.head()\n",
        "\n",
        "# Checking the shape of the dataset\n",
        "df.shape\n",
        "\n",
        "# Descriptive statistics of the dataset\n",
        "df.describe()\n",
        "\n",
        "# Information about the dataset, including data types and missing values\n",
        "df.info()\n",
        "\n",
        "# Checking for missing values\n",
        "df.isnull().sum()\n",
        "\n",
        "# Checking for duplicate rows\n",
        "df.duplicated().sum()\n",
        "\n",
        "# Dropping unnecessary columns\n",
        "df.drop(columns=['RowNumber', 'CustomerId', 'Surname'], inplace=True)\n",
        "\n",
        "# Performing one-hot encoding for categorical variables\n",
        "df = pd.get_dummies(df, columns=['Geography', 'Gender'], drop_first=True)\n",
        "\n",
        "# Separating the target variable (Exited) from the input features\n",
        "y = df[['Exited']]\n",
        "X = df.drop(columns=['Exited'])\n",
        "\n",
        "# Splitting the data into training and testing sets\n",
        "from sklearn.model_selection import train_test_split\n",
        "X_train, X_test, y_train, y_test = train_test_split(X, y, test_size=0.2)\n",
        "\n",
        "# Feature scaling using StandardScaler\n",
        "from sklearn.preprocessing import StandardScaler\n",
        "scaler = StandardScaler()\n",
        "X_train_scaled = scaler.fit_transform(X_train)\n",
        "X_test_scaled = scaler.fit_transform(X_test)\n",
        "\n",
        "# Installing TensorFlow\n",
        "!pip install tensorflow\n",
        "\n",
        "import tensorflow as tf\n",
        "from tensorflow import keras\n",
        "from tensorflow.keras import Sequential\n",
        "from tensorflow.keras.layers import Dense\n",
        "\n",
        "# Creating the neural network model\n",
        "model = Sequential()\n",
        "model.add(Dense(3, activation='sigmoid', input_dim=11))\n",
        "model.add(Dense(1, activation='sigmoid'))\n",
        "\n",
        "# Displaying the summary of the model\n",
        "model.summary()\n",
        "\n",
        "# Compiling the model\n",
        "model.compile(loss='binary_crossentropy', optimizer='Adam')\n",
        "\n",
        "# Training the model\n",
        "model.fit(X_train_scaled, y_train, epochs=10)\n",
        "\n",
        "# Getting the weights of the first hidden layer\n",
        "model.layers[0].get_weights()\n",
        "\n",
        "# Getting the weights of the output layer\n",
        "model.layers[1].get_weights()\n",
        "\n",
        "# Making predictions on the testing set\n",
        "pred = model.predict(X_test_scaled)\n",
        "\n",
        "# Evaluating the model using accuracy score\n",
        "from sklearn.metrics import accuracy_score\n",
        "accuracy_score(y_test.values, pred)\n"
      ]
    }
  ]
}